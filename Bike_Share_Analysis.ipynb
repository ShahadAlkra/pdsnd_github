{
 "cells": [
  {
   "cell_type": "markdown",
   "metadata": {},
   "source": [
    "# 2016 US Bike Share Activity Snapshot\n",
    "\n",
    "## Table of Contents\n",
    "- [Introduction](#intro)\n",
    "- [Posing Questions](#pose_questions)\n",
    "- [Data Collection and Wrangling](#wrangling)\n",
    "  - [Condensing the Trip Data](#condensing)\n",
    "- [Exploratory Data Analysis](#eda)\n",
    "  - [Statistics](#statistics)\n",
    "  - [Visualizations](#visualizations)\n",
    "- [Performing Your Own Analysis](#eda_continued)\n",
    "- [Conclusions](#conclusions)\n",
    "\n",
    "<a id='intro'></a>\n",
    "## Introduction\n",
    "\n",
    "> **Tip**: Quoted sections like this will provide helpful instructions on how to navigate and use a Jupyter notebook.\n",
    "\n",
    "Over the past decade, bicycle-sharing systems have been growing in number and popularity in cities across the world. Bicycle-sharing systems allow users to rent bicycles for short trips, typically 30 minutes or less. Thanks to the rise in information technologies, it is easy for a user of the system to access a dock within the system to unlock or return bicycles. These technologies also provide a wealth of data that can be used to explore how these bike-sharing systems are used.\n",
    "\n",
    "In this project, you will perform an exploratory analysis on data provided by [Motivate](https://www.motivateco.com/), a bike-share system provider for many major cities in the United States. You will compare the system usage between three large cities: New York City, Chicago, and Washington, DC. You will also see if there are any differences within each system for those users that are registered, regular users and those users that are short-term, casual users."
   ]
  },
  {
   "cell_type": "markdown",
   "metadata": {},
   "source": [
    "<a id='pose_questions'></a>\n",
    "## Posing Questions\n",
    "\n",
    "Before looking at the bike sharing data, you should start by asking questions you might want to understand about the bike share data. Consider, for example, if you were working for Motivate. What kinds of information would you want to know about in order to make smarter business decisions? If you were a user of the bike-share service, what factors might influence how you would want to use the service?\n",
    "\n",
    "**Question 1**: Write at least two questions related to bike sharing that you think could be answered by data.\n",
    "\n",
    "**Answer**: \n",
    "what are the ratio for each type of user for each city?\n",
    "what is the age group are using the bike more often?\n",
    "which gender type are using the bike more often?\n",
    "how much revenue per cost each city generate?\n",
    "\n",
    "> **Tip**: If you double click on this cell, you will see the text change so that all of the formatting is removed. This allows you to edit this block of text. This block of text is written using [Markdown](http://daringfireball.net/projects/markdown/syntax), which is a way to format text using headers, links, italics, and many other options using a plain-text syntax. You will also use Markdown later in the Nanodegree program. Use **Shift** + **Enter** or **Shift** + **Return** to run the cell and show its rendered form."
   ]
  },
  {
   "cell_type": "markdown",
   "metadata": {},
   "source": [
    "<a id='wrangling'></a>\n",
    "## Data Collection and Wrangling\n",
    "\n",
    "Now it's time to collect and explore our data. In this project, we will focus on the record of individual trips taken in 2016 from our selected cities: New York City, Chicago, and Washington, DC. Each of these cities has a page where we can freely download the trip data.:\n",
    "\n",
    "- New York City (Citi Bike): [Link](https://www.citibikenyc.com/system-data)\n",
    "- Chicago (Divvy): [Link](https://www.divvybikes.com/system-data)\n",
    "- Washington, DC (Capital Bikeshare): [Link](https://www.capitalbikeshare.com/system-data)\n",
    "\n",
    "If you visit these pages, you will notice that each city has a different way of delivering its data. Chicago updates with new data twice a year, Washington DC is quarterly, and New York City is monthly. **However, you do not need to download the data yourself.** The data has already been collected for you in the `/data/` folder of the project files. While the original data for 2016 is spread among multiple files for each city, the files in the `/data/` folder collect all of the trip data for the year into one file per city. Some data wrangling of inconsistencies in timestamp format within each city has already been performed for you. In addition, a random 2% sample of the original data is taken to make the exploration more manageable. \n",
    "\n",
    "**Question 2**: However, there is still a lot of data for us to investigate, so it's a good idea to start off by looking at one entry from each of the cities we're going to analyze. Run the first code cell below to load some packages and functions that you'll be using in your analysis. Then, complete the second code cell to print out the first trip recorded from each of the cities (the second line of each data file).\n",
    "\n",
    "> **Tip**: You can run a code cell like you formatted Markdown cells above by clicking on the cell and using the keyboard shortcut **Shift** + **Enter** or **Shift** + **Return**. Alternatively, a code cell can be executed using the **Play** button in the toolbar after selecting it. While the cell is running, you will see an asterisk in the message to the left of the cell, i.e. `In [*]:`. The asterisk will change into a number to show that execution has completed, e.g. `In [1]`. If there is output, it will show up as `Out [1]:`, with an appropriate number to match the \"In\" number."
   ]
  },
  {
   "cell_type": "code",
   "execution_count": 1,
   "metadata": {},
   "outputs": [],
   "source": [
    "## import all necessary packages and functions.\n",
    "import csv # read and write csv files\n",
    "from datetime import datetime # operations to parse dates\n",
    "from pprint import pprint # use to print data structures like dictionaries in a nicer way than the base print function.\n",             
	"import pandas as pd # Source : https://towardsdatascience.com/a-quick-introduction-to-the-pandas-python-library-f1b678f34673\n",
    "import matplotlib.pyplot as plt # source :https://towardsdatascience.com/a-guide-to-pandas-and-matplotlib-for-data-exploration-56fad95f951c\n",
    "import numpy as py #Source: https://towardsdatascience.com/a-quick-introduction-to-the-numpy-library-6f61b7dee4db\n",
   
   ]
  },
  {
   "cell_type": "code",
   "execution_count": 2,
   "metadata": {
    "scrolled": true
   },
   "outputs": [
    {
     "name": "stdout",
     "output_type": "stream",
     "text": [
      "\n",
      "City: NYC\n",
      "OrderedDict([('tripduration', '839'),\n",
      "             ('starttime', '1/1/2016 00:09:55'),\n",
      "             ('stoptime', '1/1/2016 00:23:54'),\n",
      "             ('start station id', '532'),\n",
      "             ('start station name', 'S 5 Pl & S 4 St'),\n",
      "             ('start station latitude', '40.710451'),\n",
      "             ('start station longitude', '-73.960876'),\n",
      "             ('end station id', '401'),\n",
      "             ('end station name', 'Allen St & Rivington St'),\n",
      "             ('end station latitude', '40.72019576'),\n",
      "             ('end station longitude', '-73.98997825'),\n",
      "             ('bikeid', '17109'),\n",
      "             ('usertype', 'Customer'),\n",
      "             ('birth year', ''),\n",
      "             ('gender', '0')])\n",
      "\n",
      "City: Chicago\n",
      "OrderedDict([('trip_id', '9080545'),\n",
      "             ('starttime', '3/31/2016 23:30'),\n",
      "             ('stoptime', '3/31/2016 23:46'),\n",
      "             ('bikeid', '2295'),\n",
      "             ('tripduration', '926'),\n",
      "             ('from_station_id', '156'),\n",
      "             ('from_station_name', 'Clark St & Wellington Ave'),\n",
      "             ('to_station_id', '166'),\n",
      "             ('to_station_name', 'Ashland Ave & Wrightwood Ave'),\n",
      "             ('usertype', 'Subscriber'),\n",
      "             ('gender', 'Male'),\n",
      "             ('birthyear', '1990')])\n",
      "\n",
      "City: Washington\n",
      "OrderedDict([('Duration (ms)', '427387'),\n",
      "             ('Start date', '3/31/2016 22:57'),\n",
      "             ('End date', '3/31/2016 23:04'),\n",
      "             ('Start station number', '31602'),\n",
      "             ('Start station', 'Park Rd & Holmead Pl NW'),\n",
      "             ('End station number', '31207'),\n",
      "             ('End station', 'Georgia Ave and Fairmont St NW'),\n",
      "             ('Bike number', 'W20842'),\n",
      "             ('Member Type', 'Registered')])\n"
     ]
    }
   ],
   "source": [
    "def print_first_point(filename):\n",
    "    \"\"\"\n",
    "    This function prints and returns the first data point (second row) from\n",
    "    a csv file that includes a header row.\n",
    "    \"\"\"\n",
    "    # print city name for reference\n",
    "    city = filename.split('-')[0].split('/')[-1]\n",
    "    print('\\nCity: {}'.format(city))\n",
    "    \n",
    "    with open(filename, 'r') as f_in:\n",
    "        ## TODO: Use the csv library to set up a DictReader object. ##\n",
    "        ## see https://docs.python.org/3/library/csv.html           ##\n",
    "        trip_reader =csv.DictReader(f_in)\n",
    "        \n",
    "        ## TODO: Use a function on the DictReader object to read the     ##\n",
    "        ## first trip from the data file and store it in a variable.     ##\n",
    "        ## see https://docs.python.org/3/library/csv.html#reader-objects ##\n",
    "        first_trip =next(trip_reader) #This method returns the next input line https://www.w3schools.com/python/ref_func_next.asp\n",
    "        \n",
    "        ## TODO: Use the pprint library to print the first trip. ##\n",
    "        ## see https://docs.python.org/3/library/pprint.html     ##\n",
    "        pprint(first_trip)\n",
    "    # output city name and first trip for later testing\n",
    "    return (city, first_trip)\n",
    "\n",
    "# list of files for each city\n",
    "data_files = ['./data/NYC-CitiBike-2016.csv',\n",
    "              './data/Chicago-Divvy-2016.csv',\n",
    "              './data/Washington-CapitalBikeshare-2016.csv',]\n",
    "\n",
    "# print the first trip from each file, store in dictionary\n",
    "example_trips = {}\n",
    "for data_file in data_files:\n",
    "    city, first_trip = print_first_point(data_file)\n",
    "    example_trips[city] = first_trip"
   ]
  },
  {
   "cell_type": "markdown",
   "metadata": {},
   "source": [
    "If everything has been filled out correctly, you should see below the printout of each city name (which has been parsed from the data file name) that the first trip has been parsed in the form of a dictionary. When you set up a `DictReader` object, the first row of the data file is normally interpreted as column names. Every other row in the data file will use those column names as keys, as a dictionary is generated for each row.\n",
    "\n",
    "This will be useful since we can refer to quantities by an easily-understandable label instead of just a numeric index. For example, if we have a trip stored in the variable `row`, then we would rather get the trip duration from `row['duration']` instead of `row[0]`.\n",
    "\n",
    "<a id='condensing'></a>\n",
    "### Condensing the Trip Data\n",
    "\n",
    "It should also be observable from the above printout that each city provides different information. Even where the information is the same, the column names and formats are sometimes different. To make things as simple as possible when we get to the actual exploration, we should trim and clean the data. Cleaning the data makes sure that the data formats across the cities are consistent, while trimming focuses only on the parts of the data we are most interested in to make the exploration easier to work with.\n",
    "\n",
    "You will generate new data files with five values of interest for each trip: trip duration, starting month, starting hour, day of the week, and user type. Each of these may require additional wrangling depending on the city:\n",
    "\n",
    "- **Duration**: This has been given to us in seconds (New York, Chicago) or milliseconds (Washington). A more natural unit of analysis will be if all the trip durations are given in terms of minutes.\n",
    "- **Month**, **Hour**, **Day of Week**: Ridership volume is likely to change based on the season, time of day, and whether it is a weekday or weekend. Use the start time of the trip to obtain these values. The New York City data includes the seconds in their timestamps, while Washington and Chicago do not. The [`datetime`](https://docs.python.org/3/library/datetime.html) package will be very useful here to make the needed conversions.\n",
    "- **User Type**: It is possible that users who are subscribed to a bike-share system will have different patterns of use compared to users who only have temporary passes. Washington divides its users into two types: 'Registered' for users with annual, monthly, and other longer-term subscriptions, and 'Casual', for users with 24-hour, 3-day, and other short-term passes. The New York and Chicago data uses 'Subscriber' and 'Customer' for these groups, respectively. For consistency, you will convert the Washington labels to match the other two.\n",
    "\n",
    "\n",
    "**Question 3a**: Complete the helper functions in the code cells below to address each of the cleaning tasks described above."
   ]
  },
  {
   "cell_type": "code",
   "execution_count": 104,
   "metadata": {},
   "outputs": [],
   "source": [
    "def duration_in_mins(datum, city):\n",
    "    \"\"\"\n",
    "    Takes as input a dictionary containing info about a single trip (datum) and\n",
    "    its origin city (city) and returns the trip duration in units of minutes.\n",
    "    \n",
    "    Remember that Washington is in terms of milliseconds while Chicago and NYC\n",
    "    are in terms of seconds. \n",
    "    \n",
    "    HINT: The csv module reads in all of the data as strings, including numeric\n",
    "    values. You will need a function to convert the strings into an appropriate\n",
    "    numeric type when making your transformations.\n",
    "    see https://docs.python.org/3/library/functions.html\n",
    "    \"\"\"\n",
    "    #initialize duration variable as requested in the question to convert the duration into minutes\n",
    "    duration=0\n",
    "    \n",
    "    if city =='NYC' or city=='Chicago':  #since NYC and Chicago both are in terms of seconds we could use one line of code to check them by OR  \n",
    "        duration = int(datum['tripduration'])/60 #we need to convert the string data into Integr to do the converstion\n",
    "                                                 #NYC and Chicago both have \"tripduration\" as key while Washington DC has duration as it key\n",
    "    else:\n",
    "        duration = int(datum['Duration (ms)'])/60000 #For washington DS we convert ms to m by divideing ms/60000,\n",
    "        #since 1000 milliseconds=1 second and 60000 milliseconds = 1 minute\n",
    "         \n",
    "\n",
    "    \n",
    "    return duration\n",
    "\n",
    "\n",
    "# Some tests to check that your code works. There should be no output if all of\n",
    "# the assertions pass. The `example_trips` dictionary was obtained from when\n",
    "# you printed the first trip from each of the original data files.\n",
    "tests = {'NYC': 13.9833,\n",
    "         'Chicago': 15.4333,\n",
    "         'Washington': 7.1231}\n",
    "\n",
    "for city in tests:\n",
    "    assert abs(duration_in_mins(example_trips[city], city) - tests[city]) < .001"
   ]
  },
  {
   "cell_type": "code",
   "execution_count": 106,
   "metadata": {},
   "outputs": [],
   "source": [
    "#Since we Import the DateTime module at the begining of this workspace, we do not need to impoted again.\n",
    "def time_of_trip(datum, city):\n",
    "    \"\"\"\n",
    "    Takes as input a dictionary containing info about a single trip (datum) and\n",
    "    its origin city (city) and returns the month, hour, and day of the week in\n",
    "    which the trip was made.\n",
    "    \n",
    "    Remember that NYC includes seconds, while Washington and Chicago do not.\n",
    "    \n",
    "    HINT: You should use the datetime module to parse the original date\n",
    "    strings into a format that is useful for extracting the desired information.\n",
    "    see https://docs.python.org/3/library/datetime.html#strftime-and-strptime-behavior\n",
    "    \"\"\"\n",
    "    #after reading these two resourses : \n",
    "    #https://docs.python.org/3/library/datetime.html#strftime-and-strptime-behavior and \n",
    "    #https://docs.python.org/3/library/datetime.html#strftime-and-strptime-behavior \n",
    "    #I used datetime.strptime to create a date string format.\n",
    "    #Also, I used %H for Hour in '24-hour ' format instaded of %I '12-hour' format.\n",
    "    \n",
    "    #Based on the run of the second cell, we can see that NYC and Chicago both have Sarttime key \n",
    "     #while WashintonDC has Start Date key to hold date and time value\n",
    "\n",
    "    if city =='Washington':\n",
    "        dateTime = datetime.strptime((datum['Start date']), \"%m/%d/%Y %H:%M\") #DateTime \n",
    "        day_of_week = dateTime.strftime(\"%A\")\n",
    "        \n",
    "    elif city =='Chicago':\n",
    "        dateTime = datetime.strptime((datum['starttime']), \"%m/%d/%Y %H:%M\") \n",
    "        day_of_week = dateTime.strftime(\"%A\")\n",
    "        \n",
    "    else:# NYC city includes seconds \n",
    "        dateTime = datetime.strptime((datum['starttime']), \"%m/%d/%Y %H:%M:%S\") \n",
    "        day_of_week = dateTime.strftime(\"%A\")\n",
    "    \n",
    "    hour=dateTime.hour #return the hour \n",
    "    month= dateTime.month#return the mounth\n",
    "    \n",
    "    return (month, hour, day_of_week)\n",
    "\n",
    "\n",
    "# Some tests to check that your code works. There should be no output if all of\n",
    "# the assertions pass. The `example_trips` dictionary was obtained from when\n",
    "# you printed the first trip from each of the original data files.\n",
    "tests = {'NYC': (1, 0, 'Friday'),\n",
    "         'Chicago': (3, 23, 'Thursday'),\n",
    "         'Washington': (3, 22, 'Thursday')}\n",
    "\n",
    "for city in tests:\n",
    "    assert time_of_trip(example_trips[city], city) == tests[city]"
   ]
  },
  {
   "cell_type": "code",
   "execution_count": 5,
   "metadata": {},
   "outputs": [],
   "source": [
    "def type_of_user(datum, city):\n",
    "    \"\"\"\n",
    "    Takes as input a dictionary containing info about a single trip (datum) and\n",
    "    its origin city (city) and returns the type of system user that made the\n",
    "    trip.\n",
    "    \n",
    "    Remember that Washington has different category names compared to Chicago\n",
    "    and NYC. \n",
    "    \"\"\"\n",
    "    \n",
    "    # YOUR CODE HERE\n",
    "    if city =='NYC' or city == 'Chicago' :#Since NYC and Chicago city both have the same user_type,I joind them in one condtion statment\n",
    "        user_type = datum['usertype']\n",
    "      \n",
    "    elif city=='Washington':#her we convert the user type in Washington to match the two other cities.\n",
    "        if datum['Member Type'] == 'Registered':\n",
    "            user_type = 'Subscriber'\n",
    "        else:\n",
    "            user_type = 'Customer'\n",
    "    \n",
    "    return user_type\n",
    "\n",
    "\n",
    "# Some tests to check that your code works. There should be no output if all of\n",
    "# the assertions pass. The `example_trips` dictionary was obtained from when\n",
    "# you printed the first trip from each of the original data files.\n",
    "tests = {'NYC': 'Customer',\n",
    "         'Chicago': 'Subscriber',\n",
    "         'Washington': 'Subscriber'}\n",
    "\n",
    "for city in tests:\n",
    "    assert type_of_user(example_trips[city], city) == tests[city]"
   ]
  },
  {
   "cell_type": "markdown",
   "metadata": {},
   "source": [
    "**Question 3b**: Now, use the helper functions you wrote above to create a condensed data file for each city consisting only of the data fields indicated above. In the `/examples/` folder, you will see an example datafile from the [Bay Area Bike Share](http://www.bayareabikeshare.com/open-data) before and after conversion. Make sure that your output is formatted to be consistent with the example file."
   ]
  },
  {
   "cell_type": "code",
   "execution_count": 6,
   "metadata": {},
   "outputs": [],
   "source": [
    "def condense_data(in_file, out_file, city):\n",
    "    \"\"\"\n",
    "    This function takes full data from the specified input file\n",
    "    and writes the condensed data to a specified output file. The city\n",
    "    argument determines how the input file will be parsed.\n",
    "    \n",
    "    HINT: See the cell below to see how the arguments are structured!\n",
    "    \"\"\"\n",
    "    \n",
    "    with open(out_file, 'w') as f_out, open(in_file, 'r') as f_in:\n",
    "        # set up csv DictWriter object - writer requires column names for the\n",
    "        # first row as the \"fieldnames\" argument\n",
    "        out_colnames = ['duration', 'month', 'hour', 'day_of_week', 'user_type']        \n",
    "        trip_writer = csv.DictWriter(f_out, fieldnames = out_colnames)\n",
    "        trip_writer.writeheader()\n",
    "        \n",
    "        ## TODO: set up csv DictReader object ##\n",
    "        trip_reader = csv.DictReader(f_in)\n",
    "\n",
    "        # collect data from and process each row\n",
    "        for row in trip_reader:\n",
    "            # set up a dictionary to hold the values for the cleaned and trimmed\n",
    "            # data point\n",
    "            new_point = {}\n",
    "\n",
    "            ## TODO: use the helper functions to get the cleaned data from  ##\n",
    "            ## the original data dictionaries.                              ##\n",
    "            ## Note that the keys for the new_point dictionary should match ##\n",
    "            ## the column names set in the DictWriter object above.         ##\n",
    "            \n",
    "            #we will set the new_point keys to the methods\"values\"\n",
    "            #this is basic assign porcess\n",
    "            new_point['duration'] = duration_in_mins(row, city)\n",
    "            new_point['month'], new_point['hour'], new_point['day_of_week'] = time_of_trip(row, city)#Since month,hour,and day_of_week keys all=time_of_trip(,),Iworte the in single line of code.\n",
    "            new_point['user_type'] = type_of_user(row, city)\n",
    "\n",
    "            ## TODO: write the processed information to the output file.     ##\n",
    "            ## see https://docs.python.org/3/library/csv.html#writer-objects ##\n",
    "            trip_writer.writerow(new_point)#I used .writerow()because we're trying to write one row to the writer’s file object \n",
    "            "
   ]
  },
  {
   "cell_type": "code",
   "execution_count": 7,
   "metadata": {},
   "outputs": [
    {
     "name": "stdout",
     "output_type": "stream",
     "text": [
      "\n",
      "City: Washington\n",
      "OrderedDict([('duration', '7.123116666666666'),\n",
      "             ('month', '3'),\n",
      "             ('hour', '22'),\n",
      "             ('day_of_week', 'Thursday'),\n",
      "             ('user_type', 'Subscriber')])\n",
      "\n",
      "City: Chicago\n",
      "OrderedDict([('duration', '15.433333333333334'),\n",
      "             ('month', '3'),\n",
      "             ('hour', '23'),\n",
      "             ('day_of_week', 'Thursday'),\n",
      "             ('user_type', 'Subscriber')])\n",
      "\n",
      "City: NYC\n",
      "OrderedDict([('duration', '13.983333333333333'),\n",
      "             ('month', '1'),\n",
      "             ('hour', '0'),\n",
      "             ('day_of_week', 'Friday'),\n",
      "             ('user_type', 'Customer')])\n"
     ]
    }
   ],
   "source": [
    "# Run this cell to check your work\n",
    "city_info = {'Washington': {'in_file': './data/Washington-CapitalBikeshare-2016.csv',\n",
    "                            'out_file': './data/Washington-2016-Summary.csv'},\n",
    "             'Chicago': {'in_file': './data/Chicago-Divvy-2016.csv',\n",
    "                         'out_file': './data/Chicago-2016-Summary.csv'},\n",
    "             'NYC': {'in_file': './data/NYC-CitiBike-2016.csv',\n",
    "                     'out_file': './data/NYC-2016-Summary.csv'}}\n",
    "\n",
    "for city, filenames in city_info.items():\n",
    "    condense_data(filenames['in_file'], filenames['out_file'], city)\n",
    "    print_first_point(filenames['out_file'])"
   ]
  },
  {
   "cell_type": "markdown",
   "metadata": {},
   "source": [
    "> **Tip**: If you save a jupyter Notebook, the output from running code blocks will also be saved. However, the state of your workspace will be reset once a new session is started. Make sure that you run all of the necessary code blocks from your previous session to reestablish variables and functions before picking up where you last left off.\n",
    "\n",
    "<a id='eda'></a>\n",
    "## Exploratory Data Analysis\n",
    "\n",
    "Now that you have the data collected and wrangled, you're ready to start exploring the data. In this section you will write some code to compute descriptive statistics from the data. You will also be introduced to the `matplotlib` library to create some basic histograms of the data.\n",
    "\n",
    "<a id='statistics'></a>\n",
    "### Statistics\n",
    "\n",
    "First, let's compute some basic counts. The first cell below contains a function that uses the csv module to iterate through a provided data file, returning the number of trips made by subscribers and customers. The second cell runs this function on the example Bay Area data in the `/examples/` folder. Modify the cells to answer the question below.\n",
    "\n",
    "**Question 4a**: Which city has the highest number of trips? Which city has the highest proportion of trips made by subscribers? Which city has the highest proportion of trips made by short-term customers?\n",
    "\n",
    "**Answer**: \n",
    "Which city has the highest number of trips? New York City has the highest number of trips 276798.\n",
    " Which city has the highest proportion of trips made by subscribers? New York city has the highest proportion of trips made by subscribers (245896/276798)*100 =88.83%. \n",
    "Which city has the highest proportion of trips made by short-term customers? Chicago has the proportion of trips made by short-term customers ( 17149 / 72131)*100 = 23.77%.\n"
   ]
  },
  {
   "cell_type": "code",
   "execution_count": 8,
   "metadata": {},
   "outputs": [],
   "source": [
    "def number_of_trips(filename):\n",
    "    \"\"\"\n",
    "    This function reads in a file with trip data and reports the number of\n",
    "    trips made by subscribers, customers, and total overall.\n",
    "    \"\"\"\n",
    "    with open(filename, 'r') as f_in:\n",
    "        # set up csv reader object\n",
    "        reader = csv.DictReader(f_in)\n",
    "        \n",
    "        # initialize count variables\n",
    "        #We need to create two varibles, number_of_subscribers to hold the number of trips made by Subscribers, \n",
    "        #and  number_of_customers,  to hold the number of trips made by Customers.\n",
    "        #Finding the total count for both user type is just a simple and basic mathmtic calcuation.\n",
    "        number_of_subscribers = 0\n",
    "        number_of_customers = 0\n",
    "        \n",
    "        # tally up ride types\n",
    "        # we use For loop to calculate the number of trips for both user type.\n",
    "        for row in reader:\n",
    "            if row['user_type'] == 'Subscriber': #calculate the total number of trips made by Subscribers\n",
    "                number_of_subscribers += 1\n",
    "            else:\n",
    "                number_of_customers += 1\n",
    "        \n",
    "        # compute total number of rides\n",
    "        #basic calculation to find the total.\n",
    "        The_total_number =   number_of_subscribers +  number_of_customers\n",
    "        \n",
    "        # return tallies as a tuple\n",
    "        return( number_of_subscribers, number_of_customers, The_total_number)"
   ]
  },
  {
   "cell_type": "code",
   "execution_count": 9,
   "metadata": {},
   "outputs": [
    {
     "name": "stdout",
     "output_type": "stream",
     "text": [
      "(245896, 30902, 276798)\n",
      "(54982, 17149, 72131)\n",
      "(51753, 14573, 66326)\n"
     ]
    }
   ],
   "source": [
    "## Modify this and the previous cell to answer Question 4a. Remember to run ##\n",
    "## the function on the cleaned data files you created from Question 3.      ##\n",
    "Cities_Trips = ['./data/NYC-2016-Summary.csv',\n",
    "             './data/Chicago-2016-Summary.csv',\n",
    "             './data/Washington-2016-Summary.csv' ]\n",
    "for CityTrips in Cities_Trips:\n",
    "    print(number_of_trips(CityTrips))\n",
    "    \n",
    "    #I faced some difficuties her in printing the data in readable way, so I just printed in very simple way to present the data."
   ]
  },
  {
   "cell_type": "markdown",
   "metadata": {},
   "source": [
    "> **Tip**: In order to add additional cells to a notebook, you can use the \"Insert Cell Above\" and \"Insert Cell Below\" options from the menu bar above. There is also an icon in the toolbar for adding new cells, with additional icons for moving the cells up and down the document. By default, new cells are of the code type; you can also specify the cell type (e.g. Code or Markdown) of selected cells from the Cell menu or the dropdown in the toolbar.\n",
    "\n",
    "Now, you will write your own code to continue investigating properties of the data.\n",
    "\n",
    "**Question 4b**: Bike-share systems are designed for riders to take short trips. Most of the time, users are allowed to take trips of 30 minutes or less with no additional charges, with overage charges made for trips of longer than that duration. What is the average trip length for each city? What proportion of rides made in each city are longer than 30 minutes?\n",
    "\n",
    "**Answer**: The average trip length for WashingtonDC city  is 18.93 (minutes), \n",
    "and for Chicago city is 16.56 (minutes), \n",
    "and finally for NewYork city is 15.81 (minutes). \n",
    "For the proportion of riders made in each city that are longer than 30 minutes are:\n",
    "WashingtonDC 10.83% , \n",
    "Chicago 8.33%, \n",
    "NewYork 7.30%."
   ]
  },
  {
   "cell_type": "code",
   "execution_count": 10,
   "metadata": {
    "scrolled": true
   },
   "outputs": [
    {
     "name": "stdout",
     "output_type": "stream",
     "text": [
      "Average_Trips_length , proportion_of_longTrips_rides\n",
      "(15.81259299802269, 7.3024371563378345)\n",
      "Average_Trips_length , proportion_of_longTrips_rides\n",
      "(16.56362936878731, 8.332062497400562)\n",
      "Average_Trips_length , proportion_of_longTrips_rides\n",
      "(18.932873559137203, 10.83888671109369)\n"
     ]
    }
   ],
   "source": [
    "## Use this and additional cells to answer Question 4b.                 ##\n",
    "##                                                                      ##\n",
    "## HINT: The csv module reads in all of the data as strings, including  ##\n",
    "## numeric values. You will need a function to convert the strings      ##\n",
    "## into an appropriate numeric type before you aggregate data.          ##\n",
    "## TIP: For the Bay Area example, the average trip length is 14 minutes ##\n",
    "## and 3.5% of trips are longer than 30 minutes.                        ##\n",
    "#--------------------------------------------------------------------------------------------------------------------#\n",
    "\n",
    "#First of all,We classified the Trips into two catigories: more than 30m \"longTrip\", and less than 30m\"short trips\".\n",
    "#2- since we are requested to find out the average trip length for each city, that's mean we need to calculate the lenght for these two type to get the avarge.\n",
    "#3- also, we need to calculate the proportion of rides made in each city are longer than 30m only, so we will do basic mathmatic calculation.\n",
    "    #we need to find the total rides number(long rides number + short rides number) \"not lenght\", to calculate the proportion of rides made in each city are longer than 30m \"long trips\"\n",
    "#4-So we need to initialize 8  variables:\n",
    "\n",
    "#4-1: Short_trips_length => to calculate the length of trips that are less than < 30m\n",
    "#4-2: long_trips_length => to calculate the length of trips that are more than >30m\n",
    "#4-3: Total_trips_length => to calculate the total length of both short trips and long trips .\n",
    "#4-4: Average_Trips_length => By applying basic mathmatic, we will calculate the average trips length for each city.\n",
    "#4-5: Short_Trips_number => to calculate the count of trips that are less than < 30m\n",
    "#4-6: long_Trips_number => to calculate the count of trips that are more than >30m\n",
    "#4-7: Total_Trips_Number => to calculate the total count for both long trips and short trips number.\n",
    "#4-8: proportion_of_rides =>  By applying basic mathmatic, we will calculate the proporation of rides made in each city are longer than 30m\n",
    "\n",
    "#5- we need to create a function to calculate the previous variables.\n",
    "\n",
    "def Rides_Trips_Analysis(filename):\n",
    "   \n",
    "    with open(filename, 'r') as f_in:\n",
    "        # set up csv reader object\n",
    "        trip_reader =csv.DictReader(f_in)\n",
    "        \n",
    "        #initialize the 8th  variables:\n",
    "        Short_trips_length = 0\n",
    "        long_trips_length =0\n",
    "        Total_trips_length =0 \n",
    "        Average_Trips_length =0\n",
    "        Short_Trips_number =0 \n",
    "        long_Trips_number = 0\n",
    "        Total_Trips_Number = 0\n",
    "        proportion_of_longTrips_rides = 0\n",
    "            \n",
    "       \n",
    "        for row in trip_reader:\n",
    "            if float(row['duration']) >30: #to check if the trip length/duration more than 30m\n",
    "                long_trips_length += float(row['duration'])# calculate the count of length of long term trips.\n",
    "                long_Trips_number +=1 # calculate the count of number of long term trips.\n",
    "            \n",
    "            elif float(row['duration']) <=30: #to check if the trip length/duration less than 30m\n",
    "                Short_trips_length += float(row['duration'])# calculate the count of length of short term trips .\n",
    "                Short_Trips_number += 1 # calculate the count of number of short term trips.\n",
    "            \n",
    "         #calculate the total for both length of trips and number of the trips\n",
    "        Total_trips_length = long_trips_length + Short_trips_length\n",
    "        Total_Trips_Number = long_Trips_number + Short_Trips_number\n",
    "            \n",
    "        Average_Trips_length = Total_trips_length / Total_Trips_Number\n",
    "        proportion_of_longTrips_rides = (long_Trips_number/Total_Trips_Number)*100\n",
    "            \n",
    "            \n",
    "        return (Average_Trips_length , proportion_of_longTrips_rides)\n",
    "            \n",
    "    \n",
    "Cities_Trips = ['./data/NYC-2016-Summary.csv',\n",
    "             './data/Chicago-2016-Summary.csv',\n",
    "             './data/Washington-2016-Summary.csv' ]\n",
    "for CityTrips in Cities_Trips:\n",
    "    print(\"Average_Trips_length , proportion_of_longTrips_rides\")\n",
    "    print(Rides_Trips_Analysis(CityTrips))\n"
   ]
  },
  {
   "cell_type": "markdown",
   "metadata": {},
   "source": [
    "**Question 4c**: Dig deeper into the question of trip duration based on ridership. Choose one city. Within that city, which type of user takes longer rides on average: Subscribers or Customers?\n",
    "\n",
    "**Answer**:  \n",
    "I choosed  Chicago city,\n",
    "the customers take longer rides on average 30.97minutes.\n",
    "The average time of subscribers rides is 12.06 minutes."
   ]
  },
  {
   "cell_type": "code",
   "execution_count": 107,
   "metadata": {},
   "outputs": [
    {
     "name": "stdout",
     "output_type": "stream",
     "text": [
      " Subscriber_trip_average,  Customer_trip_average\n",
      "(12.067201690250076, 30.979781133982506)\n"
     ]
    }
   ],
   "source": [
    "## Use this and additional cells to answer Question 4c. If you have    ##\n",
    "## not done so yet, consider revising some of your previous code to    ##\n",
    "## make use of functions for reusability.                              ##\n",
    "##                                                                     ##\n",
    "## TIP: For the Bay Area example data, you should find the average     ##\n",
    "## Subscriber trip duration to be 9.5 minutes and the average Customer ##\n",
    "## trip duration to be 54.6 minutes. Do the other cities have this     ##\n",
    "## level of difference? ##\n",
    "\n",
    "#---------------------------------------------------------------------------------------------\n",
    "#--------------------------------------Chicago City ------------------------------------------\n",
    "\n",
    "# Since we are required to find out which type of user takes longer rides on average: Subscribers or Customers, that is mean\n",
    "#we need first to calculate the ride/duration of trips based on the two user type.\n",
    "#then calculate the total  ride for each user type\n",
    "# After we calculating the the total , we can do bsic mathmatic to find the average ride of trip based on these two user type.\n",
    "\n",
    "#So we need to initialize 6 variables:\n",
    "#1- Subscriber_trip_length => to calculate the length/duration of the trip for Subscriber.\n",
    "#2- Subscriber_trip_number => to calculate the count number of the trip for Subscriber.\n",
    "#3- Subscriber_trip_average => to calculate the average of the trip duration based on ridership.\n",
    "#4- Customer_trip_length => to calculate the length/duration of the trip for customer.\n",
    "#5- Customer_trip_number => to calculate the count number of the trip for customer.\n",
    "#6- Customer_trip_average => to calculate the average of the trip duration based on ridership.\n",
    "\n",
    "def duration_of_ridership(filename):\n",
    "    \n",
    "      with open(filename, 'r') as f_in:  \n",
    "        # set up csv reader object\n",
    "        trip_reader=csv.DictReader(f_in)\n",
    "        \n",
    "        #initialize the 6th variables:\n",
    "        #all the defintion mentioned above in the comments part\n",
    "        \n",
    "        Subscriber_trip_length =0 \n",
    "        Subscriber_trip_number =0\n",
    "        Subscriber_trip_average =0\n",
    "        Customer_trip_length =0\n",
    "        Customer_trip_number = 0\n",
    "        Customer_trip_average = 0\n",
    "        #-------------------------------------\n",
    "        \n",
    "        for row in  trip_reader:\n",
    "            if row['user_type'] == 'Subscriber': \n",
    "                Subscriber_trip_length += float(row['duration'])\n",
    "                Subscriber_trip_number +=1 \n",
    "                \n",
    "            elif row['user_type'] == 'Customer': \n",
    "                Customer_trip_length += float(row['duration'])\n",
    "                Customer_trip_number += 1\n",
    "                    \n",
    "         #basic mathmatic claculation \n",
    "        Subscriber_trip_average =  Subscriber_trip_length /  Subscriber_trip_number \n",
    "        Customer_trip_average =   Customer_trip_length /  Customer_trip_number \n",
    "       \n",
    "        \n",
    "        return ( Subscriber_trip_average,  Customer_trip_average )\n",
    "    \n",
    "    ##to print the result, we choose one city to findout which type of user takes longer rides on average: Subscribers or Customers?\n",
    "Cities_Trips = ['./data/Chicago-2016-Summary.csv']\n",
    "for CityTrips in Cities_Trips:\n",
    "    print(\" Subscriber_trip_average,  Customer_trip_average\")\n",
    "    \n",
    "    print(duration_of_ridership(CityTrips))\n",
	"    print(\" Subscriber_trip_average are users with annual, monthly, and other longer-term subscriptions\")\n",
	"    print (\" Customer_trip_average are users with 24-hour, 3-day, and other short-term passes \")"
   ]
  },
  {
   "cell_type": "markdown",
   "metadata": {},
   "source": [
    "<a id='visualizations'></a>\n",
    "### Visualizations\n",
    "\n",
    "The last set of values that you computed should have pulled up an interesting result. While the mean trip time for Subscribers is well under 30 minutes, the mean trip time for Customers is actually _above_ 30 minutes! It will be interesting for us to look at how the trip times are distributed. In order to do this, a new library will be introduced here, `matplotlib`. Run the cell below to load the library and to generate an example plot."
   ]
  },
  {
   "cell_type": "code",
   "execution_count": 12,
   "metadata": {},
   "outputs": [
    {
     "data": {
      "image/png": "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\n",
      "text/plain": [
       "<matplotlib.figure.Figure at 0x7f9f7409a438>"
      ]
     },
     "metadata": {
      "needs_background": "light"
     },
     "output_type": "display_data"
    }
   ],
   "source": [
    "# load library\n",
    "import matplotlib.pyplot as plt\n",
    "\n",
    "# this is a 'magic word' that allows for plots to be displayed\n",
    "# inline with the notebook. If you want to know more, see:\n",
    "# http://ipython.readthedocs.io/en/stable/interactive/magics.html\n",
    "%matplotlib inline \n",
    "\n",
    "# example histogram, data taken from bay area sample\n",
    "data = [ 7.65,  8.92,  7.42,  5.50, 16.17,  4.20,  8.98,  9.62, 11.48, 14.33,\n",
    "        19.02, 21.53,  3.90,  7.97,  2.62,  2.67,  3.08, 14.40, 12.90,  7.83,\n",
    "        25.12,  8.30,  4.93, 12.43, 10.60,  6.17, 10.88,  4.78, 15.15,  3.53,\n",
    "         9.43, 13.32, 11.72,  9.85,  5.22, 15.10,  3.95,  3.17,  8.78,  1.88,\n",
    "         4.55, 12.68, 12.38,  9.78,  7.63,  6.45, 17.38, 11.90, 11.52,  8.63,]\n",
    "plt.hist(data)\n",
    "plt.title('Distribution of Trip Durations')\n",
    "plt.xlabel('Duration (m)')\n",
    "plt.show()"
   ]
  },
  {
   "cell_type": "markdown",
   "metadata": {},
   "source": [
    "In the above cell, we collected fifty trip times in a list, and passed this list as the first argument to the `.hist()` function. This function performs the computations and creates plotting objects for generating a histogram, but the plot is actually not rendered until the `.show()` function is executed. The `.title()` and `.xlabel()` functions provide some labeling for plot context.\n",
    "\n",
    "You will now use these functions to create a histogram of the trip times for the city you selected in question 4c. Don't separate the Subscribers and Customers for now: just collect all of the trip times and plot them."
   ]
  },
  {
   "cell_type": "code",
   "execution_count": 108,
   "metadata": {},
   "outputs": [
    {
     "data": {
      "image/png": "iVBORw0KGgoAAAANSUhEUgAAAtUAAAGDCAYAAADkjOwcAAAABHNCSVQICAgIfAhkiAAAAAlwSFlzAAALEgAACxIB0t1+/AAAADl0RVh0U29mdHdhcmUAbWF0cGxvdGxpYiB2ZXJzaW9uIDIuMS4wLCBodHRwOi8vbWF0cGxvdGxpYi5vcmcvpW3flQAAIABJREFUeJzt3XucXVV99/HPtwSEegMlUq4GNbaiVaqp0nopXsrFG7bVCvKUaLG0Fvt4aavo0xbQ1lKtWnke9SkKD8ELiFYrWhAoatXWC+GiEJASBSVCIRpAkIqCv+ePvUYPw0zmJGuSmQmf9+s1r9ln7bX3WXudPcn3rLP2PqkqJEmSJG28n5vrBkiSJEkLnaFakiRJ6mSoliRJkjoZqiVJkqROhmpJkiSpk6FakiRJ6mSolrRZJDkmyfvXs35Vkn03Y5NmVZLlSc6a63b0mK/HkOS9SV4/S/t6SJJbRx5/IcmLZ2PfbX/nJDl0tvYnaeEwVEuaNUlelGRlkluTXJfkrCRPGmfbqnpkVX12EzdxLC3g39p+7kzyw5HHU4a7qlpRVQdu5PP9dZIfJ7ml/VyR5Pgkv9B3JOt9zoclucsXFfQcQ0c71iT579a3NyX59yRHJMlIu15aVW8ac1/7rq9OVX2zqu4zC02feN1OnrT//arqA7Oxf0kLi6Fa0qxI8mrgH4A3ATsBewDvAg6ay3ZtjBbw79PC1+eBl088nircJVk0C0/7gaq6L/BA4HeA3YGVSXbamJ0l2WoW2rS5HNj6egnwFuD1wAmz/SSz9DpJ0pQM1ZK6Jbk/8AbgyKr6aFX9oKp+XFWfqKo/H6m6TZJT2mjsqiTLRvZxdZJntOWtkrw+yTda3QuS7N7WvSPJNUm+38qfPLKP7ZKsSHJjksuTvCbJmpH1j0jy2TYiuirJczfyeF+a5HNtNHkd8Bet7LNt/aIkleRPklyV5LtJjksy47+5VfWjqroUeAFwE/Cqkef87EgbJp5jSXv8/iTvTPKpJD8AnpzkuUkubn347SR/OfJUn2vbTYzA/+oUz/Gk9snDzUm+kuQJI+u+kOTYJP/R9v+pJA9o634+yQeTfK/19VeS7DjGsd9UVf8MHAIcnuSXRo7tmLb8oCRntv2uSzJxHKcCuwBnteN59cRofJKXJPk2cM5UI/TA0pHj/FiSHdo+n5Hk6tGKE6PhSZ4NvAY4tD3fBSP98uK2/HNJ/irJt5LckOTkJPdr6ybadljb59okR83UR5LmL0O1pNnwa8C2wMdmqPdc4DRge+AM4P9MU+/VDMHqmcD9gN8Hbmvrzgf2Bh4AfBD4cJJt27qjGUY7HwL8JvA/JnaYZGvgE8A5wIOAPwE+kOQXxzzGyX4duBxYDPzdNHUOAh4LLAOeDxw27s6r6g6GPnryTHVHvAg4Frgv8EXgVoY+uD/wHOAVLQwCPKU9z8QI/PmjO2oh+F+AtzKMnh8PnDkROEeebznDJxP3ZnjdAF4C/DywW9v2j4EfjnsQVfVF4L+Y+tj/HPgmQ7//AvCXbZtDgGtpo95V9baRbZ4C/BLwrGme8rD2swsQ4O1jtPGTwJsZPmG4T1U9bopqL2Xo/32BhwI7AO+YVOfXgYcB+wPHJlk603NLmp8M1ZJmwwOB77YguD5fqKozq+pO4H3AY6ap91LgL6rqihp8taq+B1BV76+q71XVHVX1VuBewEQw/l3gTVV1Y1WtYQiCE/YB7gMc10aDPw18kiG8b4xvV9W7q+rOqvrvaeoc19pydWvLhj7XtQxvHsb1sar6YlX9pKpur6pPV9Wl7fFXGd7Q/MaY+3oOsKqqTm19/X6GMDsaTE+sqiur6jbgwwxvdgB+DOwIPKz1z8qqupUNM92x/5gh/O7RXsd/G2NfR1fVbet5nVZU1WVV9QPgr4CDk5/N6e5wKPD3VXVVVd3CMK3lRZM+sTimqn5YVRcCq5j+b0LSPGeoljQbvgfsmJnnrP7XyPJtwLbTbLM78I2pdpDkT9vUjpuT3MQwCjsxtWAX4JqR6qPLuwDXVNVPRsq+Bew6Q5unc83MVe5S51utDRtiV2DdBtS/S5uS/Fqb7rI2yc0Mb1ZmnIbR7MLQ5lGT+2vy6zlxAeDJwL8Cpyf5Tpv6sqHzmac79uNaO87LMD3oz6eoM9lMr9Xk1+lebNibmelM7sNvAdswjLIDUFXT9aGkBcZQLWk2fJHh4/3nzdL+rmH4uPwuMsyffi3DiPQOVbU9cDPDR/YA1zFMOZiw+8jytcDuk0YJ9wC+s5FtnDwvdyqjz79Ha8NYMlxo+ByGCyUBfsAwpWLCVHcGmdym04B/AnavqvsD7+VnfTVT+68FHjypbKz+aiPIx1TVI4AnAb/FMGo7liT7MEwp+cIU+/5+Vb2qqpYwnG+vTTIx+j7lMVXVTMc6+XW6nSHQ36XP2xuDB47ueob9Tu7DPYAfAWtn2E7SAmSoltStqm5m+Nj8nUme1y5U2zrJgUnevBG7fC/wxiRLM3h0kgcyzBW+gyGULEryVwxzriecDrwuyQ5JdgVePrLuywwh6TWtbfsyhNbTNqJ943pNku2T7AH8T+BDM23Q2rZXa9cDGO6oAvBV4NFJfjnJdgzzx2dyX2BdVf2wBdWDR9bdAFSSh0yz7SeBRyZ5YYaLIl/EMPf3zDGO4WlJHtXewHyfYcrGnWNsd/8MF49+EDi5qi6fos5zkjy0Tc+4ue13Yt/XM8yn31CHJfmlJPdmmJN+egviXwfum2T/Nif/aGDrke2uB5asZ6rIqcCrkyxJcl/gb4BTJ31aImkLYaiWNCvahWGvBv6CIfRewxBq/3kjdvc2hoB8DkMoOxHYDjgbOAv4T4aP0n/IXT+6fwOwBriKYfrBRxhGHamqHzFcKHkg8F2G2/0dVlVf34j2jesTwMXARQwXcZ68nrqHJrkFuBH4OENgWzYxPaCqLmO4XeFngStod++YwcuAv237fT1Dn9L2dwvwt8CX2500lo1uWFVrGfrrtQzTe14FPLuqxpmOsgvwUYbXbhXDa3HqeuqfleELWb4NHMVwW72XTlP3F4FPM1yE+e/AO6pqYkT7TQwX+92U5JVjtHPC+4D3M3zSsRXwSoCqupHhgtYVDCP067jrlJcPMUznWJfkK1Ps9z2tzucZ5qPfArxiA9olaQHJzJ+KSdLClORlwMFVNe7FebP1vIsYRmf3bBcpSpK2cI5US9piJNk5yRPb/YF/EfhTZr7NnyRJ3fx2KUlbkm2AfwT2ZPjilNMYpnlIkrRJOf1DkiRJ6uT0D0mSJKmToVqSJEnqtGDnVO+44461ZMmSuW6GJEmStmAXXHDBd6tq8Uz1FmyoXrJkCStXrpzrZkiSJGkLluRb49Rz+ockSZLUyVAtSZIkdTJUS5IkSZ0M1ZIkSVInQ7UkSZLUyVAtSZIkdTJUS5IkSZ0M1ZIkSVInQ7UkSZLUyVAtSZIkdTJUS5IkSZ0M1ZIkSVInQ7UkSZLUadFcN2ChybGZ6ybMK3V0zXUTJEmS5pwj1ZIkSVInQ7UkSZLUyVAtSZIkdTJUS5IkSZ0M1ZIkSVInQ7UkSZLUyVAtSZIkdTJUS5IkSZ0M1ZIkSVInQ7UkSZLUyVAtSZIkdTJUS5IkSZ0M1ZIkSVInQ7UkSZLUyVAtSZIkdTJUS5IkSZ0M1ZIkSVInQ7UkSZLUyVAtSZIkdTJUS5IkSZ0M1ZIkSVInQ7UkSZLUyVAtSZIkdRorVCe5OsklSS5OsrKVPSDJuUmubL93aOVJcnyS1Um+luSxI/tZ3upfmWT5SPnj2v5Xt20z2wcqSZIkbSobMlL91Krau6qWtcdHAedV1VLgvPYY4EBgafs5Ang3DCEcOBp4AvB44OiJIN7qHDGy3QEbfUSSJEnSZtYz/eMgYEVbXgE8b6T8lBp8Cdg+yc7A/sC5VbWuqm4EzgUOaOvuV1VfrKoCThnZlyRJkjTvjRuqCzgnyQVJjmhlO1XVdQDt94Na+a7ANSPbrmll6ytfM0W5JEmStCAsGrPeE6vq2iQPAs5N8vX11J1qPnRtRPnddzwE+iMA9thjj/W3WJIkSdpMxhqprqpr2+8bgI8xzIm+vk3doP2+oVVfA+w+svluwLUzlO82RflU7TihqpZV1bLFixeP03RJkiRpk5sxVCe5d5L7TiwD+wGXAmcAE3fwWA58vC2fARzW7gKyD3Bzmx5yNrBfkh3aBYr7AWe3dbck2afd9eOwkX1JkiRJ89440z92Aj7W7nK3CPhgVX0qyfnA6UkOB74NvKDVPxN4JrAauA14CUBVrUvyRuD8Vu8NVbWuLb8MOBnYDjir/UiSJEkLwoyhuqq+CTxmivLvAU+foryAI6fZ10nASVOUrwQeNUZ7JUmSpHnHb1SUJEmSOhmqJUmSpE6GakmSJKmToVqSJEnqZKiWJEmSOhmqJUmSpE6GakmSJKmToVqSJEnqZKiWJEmSOhmqJUmSpE6GakmSJKmToVqSJEnqZKiWJEmSOhmqJUmSpE6GakmSJKmToVqSJEnqZKiWJEmSOhmqJUmSpE6GakmSJKmToVqSJEnqZKiWJEmSOhmqJUmSpE6GakmSJKmToVqSJEnqZKiWJEmSOhmqJUmSpE6GakmSJKmToVqSJEnqZKiWJEmSOhmqJUmSpE6GakmSJKmToVqSJEnqZKiWJEmSOhmqJUmSpE6GakmSJKmToVqSJEnqZKiWJEmSOhmqJUmSpE6GakmSJKmToVqSJEnqZKiWJEmSOhmqJUmSpE6GakmSJKmToVqSJEnqZKiWJEmSOhmqJUmSpE6GakmSJKmToVqSJEnqNHaoTrJVkouSfLI93jPJl5NcmeRDSbZp5fdqj1e39UtG9vG6Vn5Fkv1Hyg9oZauTHDV7hydJkiRtehsyUv0K4PKRx38HvL2qlgI3Aoe38sOBG6vqYcDbWz2S7AUcDDwSOAB4VwvqWwHvBA4E9gIOaXUlSZKkBWGsUJ1kN+BZwHvb4wBPAz7SqqwAnteWD2qPaeuf3uofBJxWVbdX1VXAauDx7Wd1VX2zqn4EnNbqSpIkSQvCuCPV/wC8BvhJe/xA4KaquqM9XgPs2pZ3Ba4BaOtvbvV/Wj5pm+nK7ybJEUlWJlm5du3aMZsuSZIkbVozhuokzwZuqKoLRounqFozrNvQ8rsXVp1QVcuqatnixYvX02pJkiRp81k0Rp0nAs9N8kxgW+B+DCPX2ydZ1EajdwOubfXXALsDa5IsAu4PrBspnzC6zXTlkiRJ0rw340h1Vb2uqnarqiUMFxp+uqoOBT4DPL9VWw58vC2f0R7T1n+6qqqVH9zuDrInsBT4CnA+sLTdTWSb9hxnzMrRSZIkSZvBOCPV03ktcFqSvwYuAk5s5ScC70uymmGE+mCAqlqV5HTgMuAO4MiquhMgycuBs4GtgJOqalVHuyRJkqTNKsMg8sKzbNmyWrly5WZ/3hw71RTwe646emGeP5IkSeNIckFVLZupnt+oKEmSJHUyVEuSJEmdDNWSJElSJ0O1JEmS1MlQLUmSJHUyVEuSJEmdDNWSJElSJ0O1JEmS1MlQLUmSJHUyVEuSJEmdDNWSJElSJ0O1JEmS1MlQLUmSJHUyVEuSJEmdDNWSJElSJ0O1JEmS1MlQLUmSJHUyVEuSJEmdDNWSJElSJ0O1JEmS1MlQLUmSJHUyVEuSJEmdDNWSJElSJ0O1JEmS1MlQLUmSJHUyVEuSJEmdDNWSJElSJ0O1JEmS1MlQLUmSJHUyVEuSJEmdDNWSJElSJ0O1JEmS1MlQLUmSJHUyVEuSJEmdDNWSJElSJ0O1JEmS1MlQLUmSJHUyVEuSJEmdDNWSJElSJ0O1JEmS1MlQLUmSJHUyVEuSJEmdDNWSJElSJ0O1JEmS1MlQLUmSJHUyVEuSJEmdDNWSJElSpxlDdZJtk3wlyVeTrEpybCvfM8mXk1yZ5ENJtmnl92qPV7f1S0b29bpWfkWS/UfKD2hlq5McNfuHKUmSJG0644xU3w48raoeA+wNHJBkH+DvgLdX1VLgRuDwVv9w4Maqehjw9laPJHsBBwOPBA4A3pVkqyRbAe8EDgT2Ag5pdSVJkqQFYcZQXYNb28Ot208BTwM+0spXAM9rywe1x7T1T0+SVn5aVd1eVVcBq4HHt5/VVfXNqvoRcFqrK0mSJC0IY82pbiPKFwM3AOcC3wBuqqo7WpU1wK5teVfgGoC2/mbggaPlk7aZrlySJElaEMYK1VV1Z1XtDezGMLL8iKmqtd+ZZt2Glt9NkiOSrEyycu3atTM3XJIkSdoMNujuH1V1E/BZYB9g+ySL2qrdgGvb8hpgd4C2/v7AutHySdtMVz7V859QVcuqatnixYs3pOmSJEnSJjPO3T8WJ9m+LW8HPAO4HPgM8PxWbTnw8bZ8RntMW//pqqpWfnC7O8iewFLgK8D5wNJ2N5FtGC5mPGM2Dk6SJEnaHBbNXIWdgRXtLh0/B5xeVZ9MchlwWpK/Bi4CTmz1TwTel2Q1wwj1wQBVtSrJ6cBlwB3AkVV1J0CSlwNnA1sBJ1XVqlk7QkmSJGkTyzCIvPAsW7asVq5cudmfN8dONQX8nquOXpjnjyRJ0jiSXFBVy2aq5zcqSpIkSZ0M1ZIkSVInQ7UkSZLUyVAtSZIkdTJUS5IkSZ0M1ZIkSVInQ7UkSZLUyVAtSZIkdTJUS5IkSZ0M1ZIkSVInQ7UkSZLUyVAtSZIkdTJUS5IkSZ0M1ZIkSVInQ7UkSZLUyVAtSZIkdTJUS5IkSZ0M1ZIkSVInQ7UkSZLUyVAtSZIkdTJUS5IkSZ0M1ZIkSVInQ7UkSZLUyVAtSZIkdTJUS5IkSZ0M1ZIkSVInQ7UkSZLUyVAtSZIkdTJUS5IkSZ0M1ZIkSVInQ7UkSZLUyVAtSZIkdTJUS5IkSZ0M1ZIkSVInQ7UkSZLUyVAtSZIkdTJUS5IkSZ0M1ZIkSVInQ7UkSZLUyVAtSZIkdTJUS5IkSZ0M1ZIkSVInQ7UkSZLUyVAtSZIkdTJUS5IkSZ0M1ZIkSVInQ7UkSZLUyVAtSZIkdZoxVCfZPclnklyeZFWSV7TyByQ5N8mV7fcOrTxJjk+yOsnXkjx2ZF/LW/0rkywfKX9ckkvaNscnyaY4WEmSJGlTGGek+g7gT6vqEcA+wJFJ9gKOAs6rqqXAee0xwIHA0vZzBPBuGEI4cDTwBODxwNETQbzVOWJkuwP6D02SJEnaPGYM1VV1XVVd2JZvAS4HdgUOAla0aiuA57Xlg4BTavAlYPskOwP7A+dW1bqquhE4FzigrbtfVX2xqgo4ZWRfkiRJ0ry3QXOqkywBfgX4MrBTVV0HQ/AGHtSq7QpcM7LZmla2vvI1U5RLkiRJC8LYoTrJfYB/Al5ZVd9fX9UpymojyqdqwxFJViZZuXbt2pmaLEmSJG0WY4XqJFszBOoPVNVHW/H1beoG7fcNrXwNsPvI5rsB185QvtsU5XdTVSdU1bKqWrZ48eJxmi5JkiRtcuPc/SPAicDlVfW2kVVnABN38FgOfHyk/LB2F5B9gJvb9JCzgf2S7NAuUNwPOLutuyXJPu25DhvZlyRJkjTvLRqjzhOB3wMuSXJxK3s9cBxwepLDgW8DL2jrzgSeCawGbgNeAlBV65K8ETi/1XtDVa1ryy8DTga2A85qP5IkSdKCMGOorqovMPW8Z4CnT1G/gCOn2ddJwElTlK8EHjVTWyRJkqT5yG9UlCRJkjoZqiVJkqROhmpJkiSpk6FakiRJ6mSoliRJkjoZqiVJkqROhmpJkiSpk6FakiRJ6mSoliRJkjoZqiVJkqROhmpJkiSpk6FakiRJ6mSoliRJkjoZqiVJkqROhmpJkiSpk6FakiRJ6mSoliRJkjoZqiVJkqROhmpJkiSpk6FakiRJ6mSoliRJkjoZqiVJkqROhmpJkiSpk6FakiRJ6mSoliRJkjoZqiVJkqROhmpJkiSpk6FakiRJ6rRorhughS3HZq6bMG/U0TXXTZAkSXPEkWpJkiSpk6FakiRJ6mSoliRJkjoZqiVJkqROhmpJkiSpk6FakiRJ6mSoliRJkjoZqiVJkqROhmpJkiSpk6FakiRJ6mSoliRJkjoZqiVJkqROhmpJkiSpk6FakiRJ6mSoliRJkjoZqiVJkqROhmpJkiSpk6FakiRJ6mSoliRJkjrNGKqTnJTkhiSXjpQ9IMm5Sa5sv3do5UlyfJLVSb6W5LEj2yxv9a9Msnyk/HFJLmnbHJ8ks32QkiRJ0qY0zkj1ycABk8qOAs6rqqXAee0xwIHA0vZzBPBuGEI4cDTwBODxwNETQbzVOWJku8nPJUmSJM1rM4bqqvocsG5S8UHAira8AnjeSPkpNfgSsH2SnYH9gXOral1V3QicCxzQ1t2vqr5YVQWcMrIvSZIkaUHY2DnVO1XVdQDt94Na+a7ANSP11rSy9ZWvmaJ8SkmOSLIyycq1a9duZNMlSZKk2TXbFypONR+6NqJ8SlV1QlUtq6plixcv3sgmSpIkSbNrY0P19W3qBu33Da18DbD7SL3dgGtnKN9tinJJkiRpwdjYUH0GMHEHj+XAx0fKD2t3AdkHuLlNDzkb2C/JDu0Cxf2As9u6W5Ls0+76cdjIviRJkqQFYdFMFZKcCuwL7JhkDcNdPI4DTk9yOPBt4AWt+pnAM4HVwG3ASwCqal2SNwLnt3pvqKqJix9fxnCHke2As9qPJEmStGDMGKqr6pBpVj19iroFHDnNfk4CTpqifCXwqJnaIUmSJM1XfqOiJEmS1MlQLUmSJHUyVEuSJEmdDNWSJElSJ0O1JEmS1MlQLUmSJHUyVEuSJEmdDNWSJElSJ0O1JEmS1MlQLUmSJHUyVEuSJEmdDNWSJElSJ0O1JEmS1MlQLUmSJHUyVEuSJEmdDNWSJElSJ0O1JEmS1MlQLUmSJHUyVEuSJEmdDNWSJElSJ0O1JEmS1MlQLUmSJHUyVEuSJEmdDNWSJElSJ0O1JEmS1MlQLUmSJHUyVEuSJEmdDNWSJElSJ0O1JEmS1MlQLUmSJHUyVEuSJEmdDNWSJElSJ0O1JEmS1MlQLUmSJHUyVEuSJEmdDNWSJElSJ0O1JEmS1MlQLUmSJHUyVEuSJEmdDNWSJElSJ0O1JEmS1GnRXDdA2lLk2Mx1E+aVOrrmugmSJG02jlRLkiRJnQzVkiRJUidDtSRJktTJUC1JkiR1MlRLkiRJnebN3T+SHAC8A9gKeG9VHTfHTZLUwbuh3JV3Q5GkLdu8GKlOshXwTuBAYC/gkCR7zW2rJEmSpPHMl5HqxwOrq+qbAElOAw4CLpvTVknSLHHk/mcctZe0JZovoXpX4JqRx2uAJ8xRWyRJm5BvMKTx+AZ0YZkvoXqqf2HvdiYlOQI4oj28NckVm7RVU9sR+O4cPO+WzD6dXfbn7LNPZ5f9Ofvs09k1L/ozx2xRb0DnRZ9upAePU2m+hOo1wO4jj3cDrp1cqapOAE7YXI2aSpKVVbVsLtuwpbFPZ5f9Ofvs09llf84++3R22Z+z757Qp/PiQkXgfGBpkj2TbAMcDJwxx22SJEmSxjIvRqqr6o4kLwfOZril3klVtWqOmyVJkiSNZV6EaoCqOhM4c67bMYY5nX6yhbJPZ5f9Ofvs09llf84++3R22Z+zb4vv01R5ZakkSZLUY77MqZYkSZIWLEP1BkhyQJIrkqxOctRct2ehSbJ7ks8kuTzJqiSvaOXHJPlOkovbzzPnuq0LSZKrk1zS+m5lK3tAknOTXNl+7zDX7VwIkvziyHl4cZLvJ3ml5+iGSXJSkhuSXDpSNuU5mcHx7d/VryV57Ny1fH6apj/fkuTrrc8+lmT7Vr4kyX+PnKv/d+5aPn9N06fT/p0neV07R69Isv/ctHr+mqY/PzTSl1cnubiVb7HnqNM/xtS+Sv0/gd9kuAXg+cAhVeW3Po4pyc7AzlV1YZL7AhcAzwN+F7i1qv5+Thu4QCW5GlhWVd8dKXszsK6qjmtvAHeoqtfOVRsXovY3/x2GL6J6CZ6jY0vyFOBW4JSqelQrm/KcbMHlT4BnMvT1O6rKL/8aMU1/7gd8ul3o/3cArT+XAJ+cqKepTdOnxzDF33mSvYBTGb79eRfgX4GHV9Wdm7XR89hU/Tlp/VuBm6vqDVvyOepI9fh++lXqVfUjYOKr1DWmqrquqi5sy7cAlzN8m6Zm30HAira8guHNizbM04FvVNW35rohC01VfQ5YN6l4unPyIIb/iKuqvgRs396Aq5mqP6vqnKq6oz38EsP3O2hM05yj0zkIOK2qbq+qq4DVDJlAzfr6M0kYBs9O3ayNmgOG6vFN9VXqBsKN1N6p/grw5Vb08vYx5klOVdhgBZyT5IIM3zoKsFNVXQfDmxngQXPWuoXrYO76n4DnaJ/pzkn/be33+8BZI4/3THJRkn9L8uS5atQCNdXfuedonycD11fVlSNlW+Q5aqge31hfpa6ZJbkP8E/AK6vq+8C7gYcCewPXAW+dw+YtRE+sqscCBwJHto/h1CHDl1A9F/hwK/Ic3XT8t7VDkv8F3AF8oBVdB+xRVb8CvBr4YJL7zVX7Fpjp/s49R/scwl0HKLbYc9RQPb6xvkpd65dka4ZA/YGq+ihAVV1fVXdW1U+A9+DHahukqq5tv28APsbQf9dPfITeft8wdy1ckA4ELqyq68FzdJZMd076b+tGSrIceDZwaLULpNoUhe+15QuAbwAPn7tWLhzr+Tv3HN1ISRYBvw18aKJsSz5HDdXj86vUO7V5VScCl1fV20bKR+dP/hZw6eRtNbUk924XfZLk3sB+DP13BrC8VVsOfHxuWrhg3WVkxXN0Vkx3Tp4BHNbuArIPw8VM181FAxeSJAcArwWeW1W3jZQvbhfZkuQhwFLgm3PTyoVlPX/nZwAHJ7lXkj0Z+vQrm7t9C9QzgK9X1ZqJgi35HJ0336g43/lV6rPiicDvAZdM3FoHeD1wSJK9GT5Ouxr4w7lp3oK0E/Cx4f0Ki4APVtWnkpwPnJ7kcODbwAvmsI0LSpKfZ7jLz+h5+GbP0fElORXYF9gxyRrgaOA4pj4nz2S488dq4DaGO61oxDT9+TrgXsC57e//S1X1R8BTgDckuQO4E/ijqhr3grx7jGn6dN+p/s6ralWS04HLGKbaHOmdP+4soV2/AAAFEUlEQVRqqv6sqhO5+7UpsAWfo95ST5IkSerk9A9JkiSpk6FakiRJ6mSoliRJkjoZqiVJkqROhmpJkiSpk6FakiRJ6mSolrRFSvLAJBe3n/9K8p22fFOSyzr2++Ika5NclOTKJGcn+fVZbPf2Sf545PEuST4yS/t+b5K9ZmNfs7XfJEuSvKjjuZPk0xvyNcdJnp3k2I19TkmaiveplrTFS3IMcGtV/X2SJcAnq+pRG7mvFwPLqurl7fFTGb7c4KlVdfmY+1hUVXdMs66rfQtNkn2BP6uqZ2/k9s8CnlFVr9qAbQJcCDxx9NsIJamHI9WS7om2SvKeJKuSnJNkO4AkD03yqSQXJPl8kl+aaUdV9RngBOCIto/PJlnWlndMcnVbfnGSDyf5BHBOkvskOS/JhUkuSXJQ2+VxwEPbqPpb2kjupW0f2yb5f63+RS3QT+z7o63tVyZ581RtndS2W5P8TZKvJvlSkp2mqH9MkhWtj65O8ttJ3tye/1NJth53v0lOTvL8kX3fOnK8T27H+6okW7XjPj/J15L8Yau/c5LPtXqXJnly2/5Q2leet776ehs5vzTJB5I8I8m/t355fHvNCvgssFFBXpKmYqiWdE+0FHhnVT0SuAn4nVZ+AvAnVfU44M+Ad425vwuBGQM48GvA8qp6GvBD4Leq6rHAU4G3thHUo4BvVNXeVfXnk7Y/EqCqfhk4BFiRZNu2bm/ghcAvAy9MsvsMbbk3w1dbPwb4HPAH09R7KPAs4CDg/cBn2vP/dyvf2P1OOAr4fDvetwOHAzdX1a8Cvwr8QZI9gRcBZ1fV3sBjgIvb9k8ELhjZ38OAdwCPZnhNXgQ8ieH1fP1IvZXAk5GkWbJorhsgSXPgqqqaCGUXAEuS3Af4deDDQ7YF4F5j7i8zVwHg3KpaN7LNm5I8BfgJsCtwt9HiSZ4E/G+Aqvp6km8BD2/rzquqmwHanPEHA9esZ18/Aj7Zli8AfnOaemdV1Y+TXAJsBXyqlV8CLOnY73T2Ax49Mqp9f4Y3QecDJ7XR8X8eef0eUFW3jGx/VVVdApBkFUO/VGv/aHtvAHbZwLZJ0rQM1ZLuiW4fWb4T2I7hk7ub2kjohvoVYGI+9R387FPAbSfV+8HI8qHAYuBxLbRePUX9ydYX3icf00z/vv+4fnZRzfrq3w5QVT9JMrrNT6bZZrr9/rRf2oj8NtM8Xxg+LTj7biuGNyDPAt6X5C1VdQpwR5Kfq6qfjLZ3pI23jyyPtndbhtF2SZoVTv+QJKCqvg9cleQF8NO7Sjxmpu2S/AbDfOr3tKKrgce15edPtU1zf+CGFqifyjCyDHALcN9ptvkcQxgnycOBPYArZmrjPHE1P+uXg4Ct2/Lk4z0beNnIfO2HJ7l3kgcz9Nd7gBOBx7b6VwAP2Yj2PBy4dCO2k6QpGaol6WcOBQ5P8lVgFUP4m8oL2wVz/8kwT/d3Ru788fcMofA/gB3X81wfAJYlWdme9+sAVfU94N/bhXZvmbTNuxgusrwE+BDw4qq6nYXhPcBvJPkK8AR+Nmr/NYbR5q8meRXwXuAy4MJ2geY/Moww7wtcnOQihjnw72jb/0tbt6Ge2raVpFnhLfUkSQtWkp2BU6pq7Lnb7Y4kH6yqp2+6lkm6p3GkWpK0YFXVdcB7sgFf/sIwbeZPN1GTJN1DOVItSZIkdXKkWpIkSepkqJYkSZI6GaolSZKkToZqSZIkqZOhWpIkSer0/wFkIpA5OWUDawAAAABJRU5ErkJggg==\n",
      "text/plain": [
       "<matplotlib.figure.Figure at 0x7f9f4c8060b8>"
      ]
     },
     "metadata": {
      "needs_background": "light"
     },
     "output_type": "display_data"
    }
   ],
   "source": [
    "## Use this and additional cells to collect all of the trip times as a list ##\n",
    "## and then use pyplot functions to generate a histogram of trip times.     ##\n",
    "#----------------------------------------------------------------------------------------------------\n",
    "# Firt of all, we need to import the needed function from the libraries.\n",
    "#import pandas as pd # Source : https://towardsdatascience.com/a-quick-introduction-to-the-pandas-python-library-f1b678f34673\n",
    "#import matplotlib.pyplot as plt # source :https://towardsdatascience.com/a-guide-to-pandas-and-matplotlib-for-data-exploration-56fad95f951c\n",
    "#import numpy as py #Source: https://towardsdatascience.com/a-quick-introduction-to-the-numpy-library-6f61b7dee4db\n",
    "\n",
    "\n",
    "\n",
    "#BUT FIRST, since we want to investigate on one city only \"Chicago\", I set my filename varibles to the Chicago data file at the begining.\n",
    "filename = './data/Chicago-2016-Summary.csv'\n",
    "# Now we need to create a function to take a list of trip times and then generate a histogram of trip times.\n",
    "def Chicago_trips_list(filename):\n",
    "    \"\"\"\n",
    "    This function reads in a file with trip data and reports the number of\n",
    "    trips made by subscribers, customers, and total overall.\n",
    "    \"\"\"\n",
    "    with open(filename, 'r') as f_in:\n",
    "        # set up csv reader object\n",
    "        trip_reader=csv.DictReader(f_in)\n",
    "       \n",
    "        # As we mentioned above, we need to create a list to hold the data \n",
    "        Chicago_list =[]\n",
    "        # tally up duration\n",
    "        for row in trip_reader:\n",
    "            Chicago_list.append(float(row['duration']))#After checking the lessons, we used append to add  to a list\n",
    "       \n",
    "    return Chicago_list \n",
    "    \n",
    "\n",
    "plt.figure(figsize=(12,6))#resize the figure, resourse :http://www.learningaboutelectronics.com/Articles/How-to-set-the-size-of-a-figure-in-matplotlib-with-Python.php , https://matplotlib.org/api/_as_gen/matplotlib.pyplot.plot.html\n",
    "plt.hist( Chicago_trips_list(filename),bins=py.arange(0,200,20),color='g')#resourse: https://docs.scipy.org/doc/numpy/reference/generated/numpy.histogram.html\n",
    "plt.title('Chicago Trip Durations Distribution')                           \n",
    "plt.xlabel('The Duration in minutes(m)')\n",
    "plt.legend()\n",
    "plt.show()\n",
    "\n"
   ]
  },
  {
   "cell_type": "markdown",
   "metadata": {},
   "source": [
    "If you followed the use of the `.hist()` and `.show()` functions exactly like in the example, you're probably looking at a plot that's completely unexpected. The plot consists of one extremely tall bar on the left, maybe a very short second bar, and a whole lot of empty space in the center and right. Take a look at the duration values on the x-axis. This suggests that there are some highly infrequent outliers in the data. Instead of reprocessing the data, you will use additional parameters with the `.hist()` function to limit the range of data that is plotted. Documentation for the function can be found [[here]](https://matplotlib.org/devdocs/api/_as_gen/matplotlib.pyplot.hist.html#matplotlib.pyplot.hist).\n",
    "\n",
    "**Question 5**: Use the parameters of the `.hist()` function to plot the distribution of trip times for the Subscribers in your selected city. Do the same thing for only the Customers. Add limits to the plots so that only trips of duration less than 75 minutes are plotted. As a bonus, set the plots up so that bars are in five-minute wide intervals. For each group, where is the peak of each distribution? How would you describe the shape of each distribution?\n",
    "\n",
    "**Answer**: \n",
    "Q1)where is the peak of Subscriber distribution?In Chicago city,the subscriber trip durations peak is in 5-10m bin. \n",
    "Q2)where is the peak of Customer distribution?In Chicago city customer trip durations peak is in 20-25m bin.\n",
    "Q3)How would you describe the shape of Subscriber distribution? The shape almost is skewed to the right starting from the peak.\n",
    "Q4)How would you describe the shape Customer distribution?The shape is more look like the normal distribution, and starting right skewed in 30m ."
   ]
  },
  {
   "cell_type": "code",
   "execution_count": 14,
   "metadata": {},
   "outputs": [
    {
     "data": {
      "text/plain": [
       "Text(0.5,0,'Duration(m)')"
      ]
     },
     "execution_count": 14,
     "metadata": {},
     "output_type": "execute_result"
    },
    {
     "data": {
      "image/png": "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\n",
      "text/plain": [
       "<matplotlib.figure.Figure at 0x7f9f4e787438>"
      ]
     },
     "metadata": {
      "needs_background": "light"
     },
     "output_type": "display_data"
    }
   ],
   "source": [
    "## Use this and additional cells to answer Question 5. ##\n",
    "# First of all, we need to simplify the requirments in Q5: 1) The selected city is Chicago,\n",
    "# we need to find the distribution of trip times for the Subscribers in Chicago.As well as for customer\n",
    "#basiclly, we are going to apply the same concept in the above cell, however there are some requirments which are:\n",
    "#1) we should limits the plots so that only trips of duration less than 75 minutes are plotted.\n",
    "#2) we should set the plots up so that bars are in five-minute wide intervals. \n",
    "\n",
    "#the results will be two bar-chart \"Subscriber , customer\"\n",
    "\n",
    "\n",
    "# since we want to investigate on one city only \"Chicago\", I set my filename varibles to the Chicago data file at the begining.\n",
    "filename = './data/Chicago-2016-Summary.csv'\n",
    "#we need to create a function to find out the requirments\n",
    "def Subscriber_trip_distripution(filename):\n",
    "      with open(filename, 'r') as f_in:\n",
    "        # set up csv reader object\n",
    "        trip_reader=csv.DictReader(f_in)\n",
    "        \n",
    "         # As we mentioned above, we need to create a list to hold the data \n",
    "        subscriber_list =[]\n",
    "        #we will use for loop to iterate over the Dic \n",
    "        for row in  trip_reader:\n",
    "            if  row['user_type'] == 'Subscriber' and float(row['duration']) < 75:#since we have two mean condition, first we should get only trips of duration less than 75m\n",
    "                                                                                 # and we should find the result of subscriber user type\n",
    "                subscriber_list.append(float(row['duration']))# we use append to add to our list\n",
    "                \n",
    "        return subscriber_list\n",
    "\n",
    "\n",
    "bins =[0,5,10,15,20,25,30,35,40,45,50,55,60,65,70,75]#we should set the plots up so that bars are in five-minute intervals. \n",
    "plt.figure(figsize=(12,6))#resize the figure, resourse :http://www.learningaboutelectronics.com/Articles/How-to-set-the-size-of-a-figure-in-matplotlib-with-Python.php , https://matplotlib.org/api/_as_gen/matplotlib.pyplot.plot.html\n",
    "plt.hist(Subscriber_trip_distripution(filename), bins,rwidth=0.9, color='y')#color formating resourse :https://matplotlib.org/api/_as_gen/matplotlib.pyplot.plot.html\n",
    "plt.title('Distribution of Chicago Subscriber Trip Durations')\n",
    "plt.xlabel('Duration(m)')\n",
    "\n"
   ]
  },
  {
   "cell_type": "code",
   "execution_count": 15,
   "metadata": {},
   "outputs": [
    {
     "data": {
      "text/plain": [
       "Text(0.5,0,'Duration(m)')"
      ]
     },
     "execution_count": 15,
     "metadata": {},
     "output_type": "execute_result"
    },
    {
     "data": {
      "image/png": "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\n",
      "text/plain": [
       "<matplotlib.figure.Figure at 0x7f9f4e82d080>"
      ]
     },
     "metadata": {
      "needs_background": "light"
     },
     "output_type": "display_data"
    }
   ],
   "source": [
    "#In this second cell, we are going to find the distribution of trip times for the Customer in Chicago\n",
    "#basiclly, we are going to apply the same knowledge that we applied in finding distribution of trip times for the subcriber, with changing the related condition\n",
    "\n",
    "# the requirment are:\n",
    "#1) we should limits the plots so that only trips of duration less than 75 minutes are plotted.\n",
    "#2) we should set the plots up so that bars are in five-minute wide intervals. \n",
    "\n",
    "# since we want to investigate on one city only \"Chicago\", I set my filename varibles to the Chicago data file at the begining.\n",
    "filename = './data/Chicago-2016-Summary.csv'\n",
    "#we need to create a function to find out the requirments\n",
    "def Customer_trip_distripution(filename):\n",
    "      with open(filename, 'r') as f_in:\n",
    "        # set up csv reader object\n",
    "        trip_reader=csv.DictReader(f_in)\n",
    "        \n",
    "         # As we mentioned above, we need to create a list to hold the data \n",
    "        customer_list =[]\n",
    "        #we will use for loop to iterate over the Dic \n",
    "        for row in  trip_reader:\n",
    "            if row['user_type'] == 'Customer' and float(row['duration']) < 75:#since we have two mean condition, first we should get only trips of duration less than 75m\n",
    "                                                                                 # and we should find the result of customer user type\n",
    "                customer_list.append(float(row['duration']))# we use append to add to our list\n",
    "                \n",
    "        return customer_list\n",
    "\n",
    "\n",
    "bins =[0,5,10,15,20,25,30,35,40,45,50,55,60,65,70,75]#we should set the plots up so that bars are in five-minute intervals. \n",
    "plt.figure(figsize=(12,6))#resize the figure, resourse :http://www.learningaboutelectronics.com/Articles/How-to-set-the-size-of-a-figure-in-matplotlib-with-Python.php , https://matplotlib.org/api/_as_gen/matplotlib.pyplot.plot.html\n",
    "plt.hist(Customer_trip_distripution(filename), bins,rwidth=0.9, color='M',edgecolor='b')#color formating resourse :https://matplotlib.org/api/_as_gen/matplotlib.pyplot.plot.html\n",
    "plt.title('Distribution of Chicago Customer Trip Durations')\n",
    "plt.xlabel('Duration(m)')\n"
   ]
  },
  {
   "cell_type": "markdown",
   "metadata": {
    "collapsed": true
   },
   "source": [
    "<a id='eda_continued'></a>\n",
    "## Performing Your Own Analysis\n",
    "\n",
    "So far, you've performed an initial exploration into the data available. You have compared the relative volume of trips made between three U.S. cities and the ratio of trips made by Subscribers and Customers. For one of these cities, you have investigated differences between Subscribers and Customers in terms of how long a typical trip lasts. Now it is your turn to continue the exploration in a direction that you choose. Here are a few suggestions for questions to explore:\n",
    "\n",
    "- How does ridership differ by month or season? Which month / season has the highest ridership? Does the ratio of Subscriber trips to Customer trips change depending on the month or season?\n",
    "- Is the pattern of ridership different on the weekends versus weekdays? On what days are Subscribers most likely to use the system? What about Customers? Does the average duration of rides change depending on the day of the week?\n",
    "- During what time of day is the system used the most? Is there a difference in usage patterns for Subscribers and Customers?\n",
    "\n",
    "If any of the questions you posed in your answer to question 1 align with the bullet points above, this is a good opportunity to investigate one of them. As part of your investigation, you will need to create a visualization. If you want to create something other than a histogram, then you might want to consult the [Pyplot documentation](https://matplotlib.org/devdocs/api/pyplot_summary.html). In particular, if you are plotting values across a categorical variable (e.g. city, user type), a bar chart will be useful. The [documentation page for `.bar()`](https://matplotlib.org/devdocs/api/_as_gen/matplotlib.pyplot.bar.html#matplotlib.pyplot.bar) includes links at the bottom of the page with examples for you to build off of for your own use.\n",
    "\n",
    "**Question 6**: Continue the investigation by exploring another question that could be answered by the data available. Document the question you want to explore below. Your investigation should involve at least two variables and should compare at least two groups. You should also use at least one visualization as part of your explorations.\n",
    "\n",
    "**Answer**: Since I choosed Chicago city for my pervious queries, I will investigate more about this city:\n",
    "Q1: For Chicago city,Is the pattern of ridership different on the weekends vs weekdays for subscriber? \n",
    "A1: Yes,there is a different.Based on the two historam, we can see that the distripution shape in weekend for subscriber almost nonexistent, while the shape in the weekdays is right-Skewed distripation and the peak between 0 to 20.\n",
    "these may reflect that for the subscriber, most of them may use the bicycle to go to work, schools on weekdays. and that could be the mean reason why they subscribe to the Bicycle-sharing system. \n",
    "\n",
    "Q2:For Chicago city,Is the pattern of ridership different on the weekends vs weekdays for Customer? \n",
    "A2: No,there is no huge different.\n",
    "Based on the two histograms, we can say that the distripution shape between the weekend and weekdays are almost similar.\n",
    "the peak for both historams is between 0 to 40 bin, also the distripution shape for both of them is normal-distripution \"0-40bin' then they start being right-Skewed from '40 bin to the right-end of the histogram.\n",
    "\n",
    "this may reflect that for the customer, most of them using the Bicycle for many reasons,ex, to go to the work,use bicycle as daily trnsport, and for runn some errands.\n",
    "\n",
    "\"we can also compare one user type in different cities to analyze the pattern\""
   ]
  },
  {
   "cell_type": "code",
   "execution_count": 103,
   "metadata": {},
   "outputs": [
    {
     "data": {
      "image/png": "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\n",
      "text/plain": [
       "<matplotlib.figure.Figure at 0x7f9f4c09fdd8>"
      ]
     },
     "metadata": {
      "needs_background": "light"
     },
     "output_type": "display_data"
    }
   ],
   "source": [
    "#Since I have investigated in Chicago city above, that made me intersted in exploring more whether \n",
    "#the pattern of ridership different on the weekends vs weekdays for both user type  in Chicago city.\n",
    "#Analyzing the pattern will help in answering some questions that maybe extracted by the shape of the duration in weekdays and weekends.  \n",
    "# Is the pattern of ridership different on the weekends versus weekdays for each user type? what are the expected reasons for each histogram shap?\n",
    "\n",
    "#To do that, we need to create a function to claculate and find the pattern of tripes ride for Subscriber in weekend and weekdays.\n",
    "#we are going  initialize two variables:\n",
    "#Subscriber_duration_weekdays => to generate the pattern histogram of weekdays, we need to calculate the duration for subscriber in weekday.\n",
    "#Subscriber_dueation_weekend => to generate the pattern histogram of weekend, we need to calculate the duration of subscriber in weekend\n",
    "\n",
    "#Since I will investgate in Chicago, I will set my data file first to Chicago.\n",
    "filename = './data/Chicago-2016-Summary.csv'\n",
    "#create a function that basiclly return the duration of subscriber per weekend and weekdays\n",
    "def subscriber_ride_pattern(filename):\n",
    "    with open(filename, 'r') as f_in:\n",
    "        # set up csv reader object\n",
    "        trip_reader= csv.DictReader(f_in)\n",
    "        \n",
    "        # initialize the two variables\n",
    "        subscriber_duration_weekend = []#list to hold the duration of subsciber in weekend\n",
    "        subsciber_duration_weekday= []#list to hold the duration of subsciber in weekdays\n",
    "       \n",
    "        \n",
    "        # using for loop to find the duration of subscriber in weekends and weekdays.\n",
    "        for row in trip_reader:\n",
    "            if row['user_type'] == 'Subscriber':#we should set the condition of user-type firstly\n",
    "                if row['day_of_week'] == 'Saturday' or row['day_of_week'] == 'Sunday':##In U.S the weekend days are Saturday and Sunday, so theif conditon to find the duration of weekend\n",
    "                    subscriber_duration_weekend.append(float(row['duration']))\n",
    "                    \n",
    "                else:\n",
    "                    subscriber_duration_weekday.append(float(row['duration']))#to find the duration for the weekdays\n",
    "                    \n",
    "                \n",
    "                \n",
    "    return (subscriber_duration_weekend, subscriber_duration_weekday)\n",
    "\n",
    "#Since we are going to create two histograms, we need to set two varibles for each histogram .\n",
    "\n",
    "subscriber_weekend,subscriber_weekday = subscriber_ride_pattern(filename)\n",
    "\n",
    "# This part was the most challenging part for me, since I never did a two sub-histograms, the research resouese are:\n",
    "#https://realpython.com/python-matplotlib-guide/\n",
    "#https://matplotlib.org/gallery/statistics/hist.html\n",
    "#set_title,set_xlable,set_ylabel resourse :https://matplotlib.org/gallery/statistics/histogram_features.html#sphx-glr-gallery-statistics-histogram-features-py\n",
    "\n",
    "figher, (histogram1, histogram2) = plt.subplots(2, sharey=True)\n",
    "histogram1.hist( subscriber_weekend, rwidth=0.9,range = (0, 100), bins = 25,color='b')\n",
    "histogram1.set_title('Chicago Subscriber Trips Ride Pattern for Weekend', fontsize=14)\n",
    "histogram1.set_xlabel('The Trip Duration in M')\n",
    "histogram1.set_ylabel(\"The Numbero of Trips\")\n",
    "\n",
    "histogram2.hist(subscriber_weekday,rwidth=0.9, range = (0, 100), bins = 25,color='c')\n",
    "histogram2.set_title('Chicago Subscriber Trips Ride Pattern for  Weekdays', fontsize=14)\n",
    "histogram2.set_xlabel('The Trip Duration in M')\n",
    "histogram2.set_ylabel(\"The Number of Trips\")\n",
    "\n",
    "figher.set_figheight(8)\n",
    "figher.set_figwidth(14)\n",
    "plt.show()"
   ]
  },
  {
   "cell_type": "code",
   "execution_count": 102,
   "metadata": {},
   "outputs": [
    {
     "data": {
      "image/png": "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\n",
      "text/plain": [
       "<matplotlib.figure.Figure at 0x7f9f4e86fb38>"
      ]
     },
     "metadata": {
      "needs_background": "light"
     },
     "output_type": "display_data"
    }
   ],
   "source": [
    "\n",
    "#Since Chicago has the highest proportion of trips made by short-term customers\" As mentioned in the answer of Q4-A\",\n",
    "#I have also been intersted in finding whether the pattern trips rides  different on the weekends vs weekdays for customer type.\n",
    "#Analyzing the histograms will help to answering some questions,ex,how pattern of trips ride different on the weekends vs weekdays\n",
    "#What are the expected reasons for each histogram shape?\n",
    "\n",
    "#--------------------------------------------------------------------------------------------------\n",
    "\n",
    "#TO do that, basiclly we will follow the same steps that we applied above,but for customer: \n",
    "filename = './data/Chicago-2016-Summary.csv'\n",
    "def customer_ride_pattern(filename):\n",
    "    with open(filename, 'r') as f_in:\n",
    "        # set up csv reader object\n",
    "        trip_reader= csv.DictReader(f_in)\n",
    "        \n",
    "        # initialize the two variables\n",
    "        customer_duration_weekend = []\n",
    "        customer_duration_weekday= []\n",
    "       \n",
    "        \n",
    "        # Get the trip count and duration for weekends and weekdays.\n",
    "        for row in trip_reader:\n",
    "            if row['user_type'] == 'Customer':\n",
    "                if row['day_of_week'] == 'Saturday' or row['day_of_week'] == 'Sunday':\n",
    "                    customer_duration_weekend.append(float(row['duration']))\n",
    "                    \n",
    "                else:\n",
    "                    customer_duration_weekday.append(float(row['duration']))\n",
    "                    \n",
    "                \n",
    "                \n",
    "    return (customer_duration_weekend, customer_duration_weekday)\n",
    "\n",
    "customer_weekend,customer_weekday = customer_ride_pattern(filename)\n",
    "\n",
    "# create the histograms\n",
    "figher, (histogram1, histogram2) = plt.subplots(2)\n",
    "histogram1.hist( customer_weekend, rwidth=0.9,range = (0, 100), bins = 25,color='g')\n",
    "histogram1.set_title('Chicago Customer Trips Ride Pattern for Weekend', fontsize=14)\n",
    "histogram1.set_xlabel('Trip Duration in Minutes')\n",
    "histogram1.set_ylabel(\"No of Trips\")\n",
    "\n",
    "histogram2.hist(customer_weekday,rwidth=0.9, range = (0, 100), bins = 25,color='c')\n",
    "histogram2.set_title('Chicago Customer Trips Ride Pattern for Weekdays', fontsize=14)\n",
    "histogram2.set_xlabel('The Trip Duration in M')\n",
    "histogram2.set_ylabel(\"The Number of Trips\")\n",
    "\n",
    "figher.set_figheight(8)\n",
    "figher.set_figwidth(14)\n",
    "plt.show()"
   ]
  },
  {
   "cell_type": "markdown",
   "metadata": {},
   "source": [
    "<a id='conclusions'></a>\n",
    "## Conclusions\n",
    "\n",
    "Congratulations on completing the project! This is only a sampling of the data analysis process: from generating questions, wrangling the data, and to exploring the data. Normally, at this point in the data analysis process, you might want to draw conclusions about the data by performing a statistical test or fitting the data to a model for making predictions. There are also a lot of potential analyses that could be performed on the data which are not possible with only the data provided. For example, detailed location data has not been investigated. Where are the most commonly used docks? What are the most common routes? As another example, weather has potential to have a large impact on daily ridership. How much is ridership impacted when there is rain or snow? Are subscribers or customers affected more by changes in weather?\n",
    "\n",
    "**Question 7**: Putting the bike share data aside, think of a topic or field of interest where you would like to be able to apply the techniques of data science. What would you like to be able to learn from your chosen subject?\n",
    "\n",
    "**Answer**:with the internet era, I will be interested in analyze when customer spending more time on internet? what applications/webpages the most frequently visited in which time? what is the age group that use internet more and in what kind op pages?\n",
    "\n",
    "these kind of information could be usefull to determine the best time to send AD for each cutomer group age and gender, based on thier interest.\n",
    "\n",
    "> **Tip**: If we want to share the results of our analysis with others, we aren't limited to giving them a copy of the jupyter Notebook (.ipynb) file. We can also export the Notebook output in a form that can be opened even for those without Python installed. From the **File** menu in the upper left, go to the **Download as** submenu. You can then choose a different format that can be viewed more generally, such as HTML (.html) or\n",
    "PDF (.pdf). You may need additional packages or software to perform these exports.\n",
    "\n",
    "> If you are working on this project via the Project Notebook page in the classroom, you can also submit this project directly from the workspace. **Before you do that**, you should save an HTML copy of the completed project to the workspace by running the code cell below. If it worked correctly, the output code should be a 0, and if you click on the jupyter icon in the upper left, you should see your .html document in the workspace directory. Alternatively, you can download the .html copy of your report following the steps in the previous paragraph, then _upload_ the report to the directory (by clicking the jupyter icon).\n",
    "\n",
    "> Either way, once you've gotten the .html report in your workspace, you can complete your submission by clicking on the \"Submit Project\" button to the lower-right hand side of the workspace."
   ]
  },
  {
   "cell_type": "code",
   "execution_count": 109,
   "metadata": {},
   "outputs": [
    {
     "data": {
      "text/plain": [
       "0"
      ]
     },
     "execution_count": 109,
     "metadata": {},
     "output_type": "execute_result"
    }
   ],
   "source": [
    "from subprocess import call\n",
    "call(['python', '-m', 'nbconvert', 'Bike_Share_Analysis.ipynb'])"
   ]
  },
  {
   "cell_type": "code",
   "execution_count": null,
   "metadata": {},
   "outputs": [],
   "source": []
  }
 ],
 "metadata": {
  "anaconda-cloud": {},
  "kernelspec": {
   "display_name": "Python 3",
   "language": "python",
   "name": "python3"
  },
  "language_info": {
   "codemirror_mode": {
    "name": "ipython",
    "version": 3
   },
   "file_extension": ".py",
   "mimetype": "text/x-python",
   "name": "python",
   "nbconvert_exporter": "python",
   "pygments_lexer": "ipython3",
   "version": "3.6.3"
  }
 },
 "nbformat": 4,
 "nbformat_minor": 1
}
